{
  "nbformat": 4,
  "nbformat_minor": 0,
  "metadata": {
    "colab": {
      "name": "HW0",
      "provenance": [],
      "collapsed_sections": [],
      "include_colab_link": true
    },
    "kernelspec": {
      "display_name": "Python 3",
      "language": "python",
      "name": "python3"
    },
    "language_info": {
      "codemirror_mode": {
        "name": "ipython",
        "version": 3
      },
      "file_extension": ".py",
      "mimetype": "text/x-python",
      "name": "python",
      "nbconvert_exporter": "python",
      "pygments_lexer": "ipython3",
      "version": "3.9.6"
    }
  },
  "cells": [
    {
      "cell_type": "markdown",
      "metadata": {
        "id": "view-in-github",
        "colab_type": "text"
      },
      "source": [
        "<a href=\"https://colab.research.google.com/github/ropholuo/CIS519-Applied-Machine-Learning/blob/main/HW0.ipynb\" target=\"_parent\"><img src=\"https://colab.research.google.com/assets/colab-badge.svg\" alt=\"Open In Colab\"/></a>"
      ]
    },
    {
      "cell_type": "markdown",
      "metadata": {
        "id": "NYgS-FIzhkLT"
      },
      "source": [
        "# **CIS 419/519 Spring 22 - Homework 0**"
      ]
    },
    {
      "cell_type": "markdown",
      "metadata": {
        "id": "4kqEqQ8-ezg3"
      },
      "source": [
        "**Before starting, you must click on the \"Copy To Drive\" option in the top bar. Go to File --> Save a Copy to Drive. This is the master notebook so <u>you will not be able to save your changes without copying it </u>! Once you click on that, make sure you are working on that version of the notebook so that your work is saved** "
      ]
    },
    {
      "cell_type": "code",
      "metadata": {
        "id": "rvhWoYCXnBME"
      },
      "source": [
        "import numpy as np\n",
        "import math\n",
        "import pandas as pd\n",
        "import random\n",
        "import math\n",
        "import os\n",
        "pd.options.mode.chained_assignment = None"
      ],
      "execution_count": null,
      "outputs": []
    },
    {
      "cell_type": "code",
      "metadata": {
        "id": "7rrhqOVU7vQ0",
        "colab": {
          "base_uri": "https://localhost:8080/"
        },
        "outputId": "f041d276-5c48-42eb-9d7c-5c6e35c22b65"
      },
      "source": [
        "# For autogreader only, do not modify this cell. \n",
        "# True for Google Colab, False for autograder\n",
        "NOTEBOOK = (os.getenv('IS_AUTOGRADER') is None)\n",
        "if NOTEBOOK:\n",
        "    print(\"[INFO, OK] Google Colab.\")\n",
        "else:\n",
        "    print(\"[INFO, OK] Autograder.\")"
      ],
      "execution_count": null,
      "outputs": [
        {
          "output_type": "stream",
          "name": "stdout",
          "text": [
            "[INFO, OK] Google Colab.\n"
          ]
        }
      ]
    },
    {
      "cell_type": "markdown",
      "metadata": {
        "id": "JJsS5fTThkLU"
      },
      "source": [
        "## PennGrader Setup\n",
        "First, you'll need to set up the PennGrader, an autograder we are going to use throughout the semester. The PennGrader will automatically grade your answer and provide you with an instant feedback. Unless otherwise stated, you can resubmit up to a reasonable number of attempts (e.g. 100 attemptes per day). **We will only record your latest score in our backend database**. \n",
        "\n",
        "After finishing each homework assignment, you must submit your iPython notebook to gradescope before the homework deadline. Gradescope will then retrive and display your scores from our backend database. "
      ]
    },
    {
      "cell_type": "code",
      "metadata": {
        "id": "HF4jSeEqhkLV"
      },
      "source": [
        "%%capture\n",
        "!pip3 install penngrader --upgrade"
      ],
      "execution_count": null,
      "outputs": []
    },
    {
      "cell_type": "code",
      "metadata": {
        "id": "DolsQ5fDhkLV"
      },
      "source": [
        "from penngrader.grader import *"
      ],
      "execution_count": null,
      "outputs": []
    },
    {
      "cell_type": "markdown",
      "metadata": {
        "id": "ppXdHvskhkLV"
      },
      "source": [
        "### Autograder Setup\n",
        "Enter your 8-digit PennID below:"
      ]
    },
    {
      "cell_type": "code",
      "metadata": {
        "id": "j7nuuZCohkLW"
      },
      "source": [
        "#PLEASE ENSURE YOUR PENN-ID IS ENTERED CORRECTLY. IF NOT, THE AUTOGRADER WON'T KNOW WHO \n",
        "#TO ASSIGN POINTS TO YOU IN OUR BACKEND\n",
        "STUDENT_ID = 42838256          # YOUR PENN-ID GOES HERE AS AN INTEGER#"
      ],
      "execution_count": null,
      "outputs": []
    },
    {
      "cell_type": "markdown",
      "metadata": {
        "id": "xuZcxcXJhkLW"
      },
      "source": [
        "Run the following cell to initialize the autograder. This autograder will let you submit your code directly from this notebook and immidiately get a score.\n",
        "\n",
        "**NOTE:** Remember we store your submissions and check against other student's submissions... so, not that you would, but no cheating."
      ]
    },
    {
      "cell_type": "code",
      "metadata": {
        "id": "omOwgdzohkLW",
        "colab": {
          "base_uri": "https://localhost:8080/"
        },
        "outputId": "29bc8892-510d-48e4-f3b6-81609a9ca7ef"
      },
      "source": [
        "grader = PennGrader(homework_id = 'CIS_519_Spring22_HW0', student_id = STUDENT_ID)"
      ],
      "execution_count": null,
      "outputs": [
        {
          "output_type": "stream",
          "name": "stdout",
          "text": [
            "PennGrader initialized with Student ID: 42838256\n",
            "\n",
            "Make sure this correct or we will not be able to store your grade\n"
          ]
        }
      ]
    },
    {
      "cell_type": "markdown",
      "metadata": {
        "id": "KxzqsGeyrmRG"
      },
      "source": [
        "## **Intro to Python Libraries**\n",
        "In this assignment, we will get acquainted with several important data libraries for machine learning.  The assumption here is that you have already, if necessary, done a thorough review of the basics of python, as in [this series](https://realpython.com/courses/python-turtle-beginners/).\n",
        "\n",
        "\n",
        "## Imports\n",
        "Let's import 3 data-related packages we will use throughout this course: numpy, pandas, and matplotlib."
      ]
    },
    {
      "cell_type": "code",
      "metadata": {
        "id": "3fabi-gZs-Bp"
      },
      "source": [
        "import numpy as np\n",
        "import pandas as pd\n",
        "import matplotlib.pyplot as plt\n",
        "import math"
      ],
      "execution_count": null,
      "outputs": []
    },
    {
      "cell_type": "markdown",
      "metadata": {
        "id": "jFJomUFuH0UV"
      },
      "source": [
        "## Numpy\n",
        "\n",
        "`numpy` is the typical library used to work with arrays.  You can either convert python lists into arrays, or use one of the many libraries which works with arrays, such as `sklearn` "
      ]
    },
    {
      "cell_type": "markdown",
      "metadata": {
        "id": "qQnWfo_vILPj"
      },
      "source": [
        "**Question 1a (5 points):** In the following assignment, you will create a function which returns a numpy array using the method np.array(xs), where xs is a list.  The function should take a positive integer n, and return $[e^0 = 1, e^1 = e,..., e^n]$. "
      ]
    },
    {
      "cell_type": "code",
      "metadata": {
        "id": "-sc00FC6JUr-"
      },
      "source": [
        "def exps_up_to_n(n : int):\n",
        "    '''\n",
        "    inputs: a number n.\n",
        "    outputs: a numpy array X with shape (n + 1), such that for all i between 0 and n (inclusive), X[i] = e^i.  \n",
        "    Useful functions are math.exp and range'''\n",
        "    # STUDENT TODO START: \n",
        "    result = []\n",
        "    for i in range(n+1):\n",
        "      result.append(np.exp(i))\n",
        "\n",
        "    return np.array(result)\n",
        "    # STUDENT TODO END"
      ],
      "execution_count": null,
      "outputs": []
    },
    {
      "cell_type": "markdown",
      "metadata": {
        "id": "JBoEKQVL3dpK"
      },
      "source": [
        "Included in every question is one or more test cases that can be used to check if your implementation is likely to satisfy the autograder."
      ]
    },
    {
      "cell_type": "code",
      "metadata": {
        "id": "zSh5-CS53kuR"
      },
      "source": [
        "# local test case\n",
        "def test_eval_exps():\n",
        "    \"\"\"We will have hidden values for n in the real gradescope\"\"\"\n",
        "    n = 5\n",
        "    val = map(int, exps_up_to_n(n)) \n",
        "    assert(list(val) == [1,2,7,20,54,148])\n",
        "    \n",
        "# run local test case only in the notebook\n",
        "if NOTEBOOK:\n",
        "  test_eval_exps()"
      ],
      "execution_count": null,
      "outputs": []
    },
    {
      "cell_type": "markdown",
      "metadata": {
        "id": "9yxW9DNxhkLY"
      },
      "source": [
        "The autograder will grade your answer with different held-out test cases. "
      ]
    },
    {
      "cell_type": "code",
      "metadata": {
        "id": "E28SqLbChkLZ",
        "colab": {
          "base_uri": "https://localhost:8080/"
        },
        "outputId": "c1a852e1-e0ca-466e-e0c8-66479073f88b"
      },
      "source": [
        "# PennGrader Grading Cell\n",
        "grader.grade(test_case_id = 'test_eval_exps', answer = exps_up_to_n)"
      ],
      "execution_count": null,
      "outputs": [
        {
          "output_type": "stream",
          "name": "stdout",
          "text": [
            "Correct! You earned 5/5 points. You are a star!\n",
            "\n",
            "Your submission has been successfully recorded in the gradebook.\n"
          ]
        }
      ]
    },
    {
      "cell_type": "markdown",
      "metadata": {
        "id": "kgWtUx18U3s2"
      },
      "source": [
        "**Question 1b (10 points):** This simple question is designed to make you comfortable with looking up numpy functions, as well as with the autograder's \"partial credit system\".  You will find the mean and standard deviation of a numpy array.  Note that this can be done without numpy library functions, although it is much easier with such functions - either version will receive full points if correct.  Partial credit will be awarded if either the mean or standard deviation is computed correctly, but the other is not."
      ]
    },
    {
      "cell_type": "code",
      "metadata": {
        "id": "zib-0POKVYPM"
      },
      "source": [
        "def mean_standard_dev_tuple_from_xs(xs : np.array):\n",
        "    '''\n",
        "    inputs: a numpy array xs\n",
        "    outputs: a tuple (mu, sigma), where mu is the mean of xs, and sigma is the standard deviation of xs.  \n",
        "    '''\n",
        "    # STUDENT TODO START:\n",
        "    mean = np.mean(xs)\n",
        "    sigma = np.std(xs)\n",
        "\n",
        "    return (mean, sigma)\n",
        "    # STUDENT TODO END"
      ],
      "execution_count": null,
      "outputs": []
    },
    {
      "cell_type": "code",
      "metadata": {
        "id": "grHXKLHL3uVg"
      },
      "source": [
        "def test_mean_standard_dev_tuple_from_xs_1():\n",
        "        \"\"\"We will have hidden values for xs in the real gradescope\"\"\"\n",
        "        xs = [math.exp(i*2.1)/3 for i in range(10)]\n",
        "        assert(int(mean_standard_dev_tuple_from_xs(xs)[0]) == 6134451)\n",
        "        \n",
        "def test_mean_standard_dev_tuple_from_xs_2():\n",
        "        \"\"\"We will have hidden values for xs in the real gradescope\"\"\"\n",
        "        xs = [math.exp(i*2.1)/3 for i in range(10)]\n",
        "        assert(int(mean_standard_dev_tuple_from_xs(xs)[1]) == 16017926)\n",
        "        \n",
        "# run test cases\n",
        "if NOTEBOOK:\n",
        "  test_mean_standard_dev_tuple_from_xs_1()\n",
        "  test_mean_standard_dev_tuple_from_xs_2()"
      ],
      "execution_count": null,
      "outputs": []
    },
    {
      "cell_type": "code",
      "metadata": {
        "id": "AzBJrzAbhkLa",
        "colab": {
          "base_uri": "https://localhost:8080/"
        },
        "outputId": "003d83c0-1419-4f13-c08a-e423c649cefd"
      },
      "source": [
        "# PennGrader Grading Cell\n",
        "grader.grade(test_case_id = 'test_mean_variance_tuple_from_xs_1', answer = mean_standard_dev_tuple_from_xs)"
      ],
      "execution_count": null,
      "outputs": [
        {
          "output_type": "stream",
          "name": "stdout",
          "text": [
            "Correct! You earned 5/5 points. You are a star!\n",
            "\n",
            "Your submission has been successfully recorded in the gradebook.\n"
          ]
        }
      ]
    },
    {
      "cell_type": "code",
      "metadata": {
        "id": "XygIeRYqhkLa",
        "colab": {
          "base_uri": "https://localhost:8080/"
        },
        "outputId": "47995668-7666-4712-a745-68cb4d659d9b"
      },
      "source": [
        "# PennGrader Grading Cell\n",
        "grader.grade(test_case_id = 'test_mean_variance_tuple_from_xs_2', answer = mean_standard_dev_tuple_from_xs)"
      ],
      "execution_count": null,
      "outputs": [
        {
          "output_type": "stream",
          "name": "stdout",
          "text": [
            "Correct! You earned 5/5 points. You are a star!\n",
            "\n",
            "Your submission has been successfully recorded in the gradebook.\n"
          ]
        }
      ]
    },
    {
      "cell_type": "markdown",
      "metadata": {
        "id": "7FL_ZjHKKBd2"
      },
      "source": [
        "## Pandas\n",
        "Another common way of organizing code is with the Pandas library.  Pandas represents data as DataFrames and Series, where Series are vectors of dara and DataFrames represent labeled sets of Series.  We'll use a dataframe provided by a data collection in a library called seaborn."
      ]
    },
    {
      "cell_type": "code",
      "metadata": {
        "id": "t66VqXMkKmz-",
        "colab": {
          "base_uri": "https://localhost:8080/",
          "height": 423
        },
        "outputId": "c7448d67-7f89-41e1-da62-8de8a995be6f"
      },
      "source": [
        "import seaborn as sns\n",
        "iris = sns.load_dataset('iris')\n",
        "\n",
        "iris"
      ],
      "execution_count": null,
      "outputs": [
        {
          "output_type": "execute_result",
          "data": {
            "text/html": [
              "\n",
              "  <div id=\"df-cbd937a4-4121-4e07-84d2-cc5426cff349\">\n",
              "    <div class=\"colab-df-container\">\n",
              "      <div>\n",
              "<style scoped>\n",
              "    .dataframe tbody tr th:only-of-type {\n",
              "        vertical-align: middle;\n",
              "    }\n",
              "\n",
              "    .dataframe tbody tr th {\n",
              "        vertical-align: top;\n",
              "    }\n",
              "\n",
              "    .dataframe thead th {\n",
              "        text-align: right;\n",
              "    }\n",
              "</style>\n",
              "<table border=\"1\" class=\"dataframe\">\n",
              "  <thead>\n",
              "    <tr style=\"text-align: right;\">\n",
              "      <th></th>\n",
              "      <th>sepal_length</th>\n",
              "      <th>sepal_width</th>\n",
              "      <th>petal_length</th>\n",
              "      <th>petal_width</th>\n",
              "      <th>species</th>\n",
              "    </tr>\n",
              "  </thead>\n",
              "  <tbody>\n",
              "    <tr>\n",
              "      <th>0</th>\n",
              "      <td>5.1</td>\n",
              "      <td>3.5</td>\n",
              "      <td>1.4</td>\n",
              "      <td>0.2</td>\n",
              "      <td>setosa</td>\n",
              "    </tr>\n",
              "    <tr>\n",
              "      <th>1</th>\n",
              "      <td>4.9</td>\n",
              "      <td>3.0</td>\n",
              "      <td>1.4</td>\n",
              "      <td>0.2</td>\n",
              "      <td>setosa</td>\n",
              "    </tr>\n",
              "    <tr>\n",
              "      <th>2</th>\n",
              "      <td>4.7</td>\n",
              "      <td>3.2</td>\n",
              "      <td>1.3</td>\n",
              "      <td>0.2</td>\n",
              "      <td>setosa</td>\n",
              "    </tr>\n",
              "    <tr>\n",
              "      <th>3</th>\n",
              "      <td>4.6</td>\n",
              "      <td>3.1</td>\n",
              "      <td>1.5</td>\n",
              "      <td>0.2</td>\n",
              "      <td>setosa</td>\n",
              "    </tr>\n",
              "    <tr>\n",
              "      <th>4</th>\n",
              "      <td>5.0</td>\n",
              "      <td>3.6</td>\n",
              "      <td>1.4</td>\n",
              "      <td>0.2</td>\n",
              "      <td>setosa</td>\n",
              "    </tr>\n",
              "    <tr>\n",
              "      <th>...</th>\n",
              "      <td>...</td>\n",
              "      <td>...</td>\n",
              "      <td>...</td>\n",
              "      <td>...</td>\n",
              "      <td>...</td>\n",
              "    </tr>\n",
              "    <tr>\n",
              "      <th>145</th>\n",
              "      <td>6.7</td>\n",
              "      <td>3.0</td>\n",
              "      <td>5.2</td>\n",
              "      <td>2.3</td>\n",
              "      <td>virginica</td>\n",
              "    </tr>\n",
              "    <tr>\n",
              "      <th>146</th>\n",
              "      <td>6.3</td>\n",
              "      <td>2.5</td>\n",
              "      <td>5.0</td>\n",
              "      <td>1.9</td>\n",
              "      <td>virginica</td>\n",
              "    </tr>\n",
              "    <tr>\n",
              "      <th>147</th>\n",
              "      <td>6.5</td>\n",
              "      <td>3.0</td>\n",
              "      <td>5.2</td>\n",
              "      <td>2.0</td>\n",
              "      <td>virginica</td>\n",
              "    </tr>\n",
              "    <tr>\n",
              "      <th>148</th>\n",
              "      <td>6.2</td>\n",
              "      <td>3.4</td>\n",
              "      <td>5.4</td>\n",
              "      <td>2.3</td>\n",
              "      <td>virginica</td>\n",
              "    </tr>\n",
              "    <tr>\n",
              "      <th>149</th>\n",
              "      <td>5.9</td>\n",
              "      <td>3.0</td>\n",
              "      <td>5.1</td>\n",
              "      <td>1.8</td>\n",
              "      <td>virginica</td>\n",
              "    </tr>\n",
              "  </tbody>\n",
              "</table>\n",
              "<p>150 rows × 5 columns</p>\n",
              "</div>\n",
              "      <button class=\"colab-df-convert\" onclick=\"convertToInteractive('df-cbd937a4-4121-4e07-84d2-cc5426cff349')\"\n",
              "              title=\"Convert this dataframe to an interactive table.\"\n",
              "              style=\"display:none;\">\n",
              "        \n",
              "  <svg xmlns=\"http://www.w3.org/2000/svg\" height=\"24px\"viewBox=\"0 0 24 24\"\n",
              "       width=\"24px\">\n",
              "    <path d=\"M0 0h24v24H0V0z\" fill=\"none\"/>\n",
              "    <path d=\"M18.56 5.44l.94 2.06.94-2.06 2.06-.94-2.06-.94-.94-2.06-.94 2.06-2.06.94zm-11 1L8.5 8.5l.94-2.06 2.06-.94-2.06-.94L8.5 2.5l-.94 2.06-2.06.94zm10 10l.94 2.06.94-2.06 2.06-.94-2.06-.94-.94-2.06-.94 2.06-2.06.94z\"/><path d=\"M17.41 7.96l-1.37-1.37c-.4-.4-.92-.59-1.43-.59-.52 0-1.04.2-1.43.59L10.3 9.45l-7.72 7.72c-.78.78-.78 2.05 0 2.83L4 21.41c.39.39.9.59 1.41.59.51 0 1.02-.2 1.41-.59l7.78-7.78 2.81-2.81c.8-.78.8-2.07 0-2.86zM5.41 20L4 18.59l7.72-7.72 1.47 1.35L5.41 20z\"/>\n",
              "  </svg>\n",
              "      </button>\n",
              "      \n",
              "  <style>\n",
              "    .colab-df-container {\n",
              "      display:flex;\n",
              "      flex-wrap:wrap;\n",
              "      gap: 12px;\n",
              "    }\n",
              "\n",
              "    .colab-df-convert {\n",
              "      background-color: #E8F0FE;\n",
              "      border: none;\n",
              "      border-radius: 50%;\n",
              "      cursor: pointer;\n",
              "      display: none;\n",
              "      fill: #1967D2;\n",
              "      height: 32px;\n",
              "      padding: 0 0 0 0;\n",
              "      width: 32px;\n",
              "    }\n",
              "\n",
              "    .colab-df-convert:hover {\n",
              "      background-color: #E2EBFA;\n",
              "      box-shadow: 0px 1px 2px rgba(60, 64, 67, 0.3), 0px 1px 3px 1px rgba(60, 64, 67, 0.15);\n",
              "      fill: #174EA6;\n",
              "    }\n",
              "\n",
              "    [theme=dark] .colab-df-convert {\n",
              "      background-color: #3B4455;\n",
              "      fill: #D2E3FC;\n",
              "    }\n",
              "\n",
              "    [theme=dark] .colab-df-convert:hover {\n",
              "      background-color: #434B5C;\n",
              "      box-shadow: 0px 1px 3px 1px rgba(0, 0, 0, 0.15);\n",
              "      filter: drop-shadow(0px 1px 2px rgba(0, 0, 0, 0.3));\n",
              "      fill: #FFFFFF;\n",
              "    }\n",
              "  </style>\n",
              "\n",
              "      <script>\n",
              "        const buttonEl =\n",
              "          document.querySelector('#df-cbd937a4-4121-4e07-84d2-cc5426cff349 button.colab-df-convert');\n",
              "        buttonEl.style.display =\n",
              "          google.colab.kernel.accessAllowed ? 'block' : 'none';\n",
              "\n",
              "        async function convertToInteractive(key) {\n",
              "          const element = document.querySelector('#df-cbd937a4-4121-4e07-84d2-cc5426cff349');\n",
              "          const dataTable =\n",
              "            await google.colab.kernel.invokeFunction('convertToInteractive',\n",
              "                                                     [key], {});\n",
              "          if (!dataTable) return;\n",
              "\n",
              "          const docLinkHtml = 'Like what you see? Visit the ' +\n",
              "            '<a target=\"_blank\" href=https://colab.research.google.com/notebooks/data_table.ipynb>data table notebook</a>'\n",
              "            + ' to learn more about interactive tables.';\n",
              "          element.innerHTML = '';\n",
              "          dataTable['output_type'] = 'display_data';\n",
              "          await google.colab.output.renderOutput(dataTable, element);\n",
              "          const docLink = document.createElement('div');\n",
              "          docLink.innerHTML = docLinkHtml;\n",
              "          element.appendChild(docLink);\n",
              "        }\n",
              "      </script>\n",
              "    </div>\n",
              "  </div>\n",
              "  "
            ],
            "text/plain": [
              "     sepal_length  sepal_width  petal_length  petal_width    species\n",
              "0             5.1          3.5           1.4          0.2     setosa\n",
              "1             4.9          3.0           1.4          0.2     setosa\n",
              "2             4.7          3.2           1.3          0.2     setosa\n",
              "3             4.6          3.1           1.5          0.2     setosa\n",
              "4             5.0          3.6           1.4          0.2     setosa\n",
              "..            ...          ...           ...          ...        ...\n",
              "145           6.7          3.0           5.2          2.3  virginica\n",
              "146           6.3          2.5           5.0          1.9  virginica\n",
              "147           6.5          3.0           5.2          2.0  virginica\n",
              "148           6.2          3.4           5.4          2.3  virginica\n",
              "149           5.9          3.0           5.1          1.8  virginica\n",
              "\n",
              "[150 rows x 5 columns]"
            ]
          },
          "metadata": {},
          "execution_count": 1
        }
      ]
    },
    {
      "cell_type": "markdown",
      "metadata": {
        "id": "xcGKMc9SNDge"
      },
      "source": [
        "This dataset is one of the most commonly used introductions to data science.  It involves 4 features, which are all real numbers between 0 and some maximum size.  Later, we'll learn how to use those features to predict a label associated with each data point (what type of flower it represents).  For now, we'll learn how to find the subset of the data with a given label."
      ]
    },
    {
      "cell_type": "code",
      "metadata": {
        "id": "sEOgNyIeNdtu",
        "colab": {
          "base_uri": "https://localhost:8080/",
          "height": 1000
        },
        "outputId": "eaf1a184-f9c9-4c72-9451-13824d759f57"
      },
      "source": [
        "iris.iloc[np.where(iris[\"species\"] == \"setosa\")[0]]"
      ],
      "execution_count": null,
      "outputs": [
        {
          "output_type": "execute_result",
          "data": {
            "text/html": [
              "\n",
              "  <div id=\"df-5cf2a7f4-dfde-4285-bafb-039dcea78a42\">\n",
              "    <div class=\"colab-df-container\">\n",
              "      <div>\n",
              "<style scoped>\n",
              "    .dataframe tbody tr th:only-of-type {\n",
              "        vertical-align: middle;\n",
              "    }\n",
              "\n",
              "    .dataframe tbody tr th {\n",
              "        vertical-align: top;\n",
              "    }\n",
              "\n",
              "    .dataframe thead th {\n",
              "        text-align: right;\n",
              "    }\n",
              "</style>\n",
              "<table border=\"1\" class=\"dataframe\">\n",
              "  <thead>\n",
              "    <tr style=\"text-align: right;\">\n",
              "      <th></th>\n",
              "      <th>sepal_length</th>\n",
              "      <th>sepal_width</th>\n",
              "      <th>petal_length</th>\n",
              "      <th>petal_width</th>\n",
              "      <th>species</th>\n",
              "    </tr>\n",
              "  </thead>\n",
              "  <tbody>\n",
              "    <tr>\n",
              "      <th>0</th>\n",
              "      <td>5.1</td>\n",
              "      <td>3.5</td>\n",
              "      <td>1.4</td>\n",
              "      <td>0.2</td>\n",
              "      <td>setosa</td>\n",
              "    </tr>\n",
              "    <tr>\n",
              "      <th>1</th>\n",
              "      <td>4.9</td>\n",
              "      <td>3.0</td>\n",
              "      <td>1.4</td>\n",
              "      <td>0.2</td>\n",
              "      <td>setosa</td>\n",
              "    </tr>\n",
              "    <tr>\n",
              "      <th>2</th>\n",
              "      <td>4.7</td>\n",
              "      <td>3.2</td>\n",
              "      <td>1.3</td>\n",
              "      <td>0.2</td>\n",
              "      <td>setosa</td>\n",
              "    </tr>\n",
              "    <tr>\n",
              "      <th>3</th>\n",
              "      <td>4.6</td>\n",
              "      <td>3.1</td>\n",
              "      <td>1.5</td>\n",
              "      <td>0.2</td>\n",
              "      <td>setosa</td>\n",
              "    </tr>\n",
              "    <tr>\n",
              "      <th>4</th>\n",
              "      <td>5.0</td>\n",
              "      <td>3.6</td>\n",
              "      <td>1.4</td>\n",
              "      <td>0.2</td>\n",
              "      <td>setosa</td>\n",
              "    </tr>\n",
              "    <tr>\n",
              "      <th>5</th>\n",
              "      <td>5.4</td>\n",
              "      <td>3.9</td>\n",
              "      <td>1.7</td>\n",
              "      <td>0.4</td>\n",
              "      <td>setosa</td>\n",
              "    </tr>\n",
              "    <tr>\n",
              "      <th>6</th>\n",
              "      <td>4.6</td>\n",
              "      <td>3.4</td>\n",
              "      <td>1.4</td>\n",
              "      <td>0.3</td>\n",
              "      <td>setosa</td>\n",
              "    </tr>\n",
              "    <tr>\n",
              "      <th>7</th>\n",
              "      <td>5.0</td>\n",
              "      <td>3.4</td>\n",
              "      <td>1.5</td>\n",
              "      <td>0.2</td>\n",
              "      <td>setosa</td>\n",
              "    </tr>\n",
              "    <tr>\n",
              "      <th>8</th>\n",
              "      <td>4.4</td>\n",
              "      <td>2.9</td>\n",
              "      <td>1.4</td>\n",
              "      <td>0.2</td>\n",
              "      <td>setosa</td>\n",
              "    </tr>\n",
              "    <tr>\n",
              "      <th>9</th>\n",
              "      <td>4.9</td>\n",
              "      <td>3.1</td>\n",
              "      <td>1.5</td>\n",
              "      <td>0.1</td>\n",
              "      <td>setosa</td>\n",
              "    </tr>\n",
              "    <tr>\n",
              "      <th>10</th>\n",
              "      <td>5.4</td>\n",
              "      <td>3.7</td>\n",
              "      <td>1.5</td>\n",
              "      <td>0.2</td>\n",
              "      <td>setosa</td>\n",
              "    </tr>\n",
              "    <tr>\n",
              "      <th>11</th>\n",
              "      <td>4.8</td>\n",
              "      <td>3.4</td>\n",
              "      <td>1.6</td>\n",
              "      <td>0.2</td>\n",
              "      <td>setosa</td>\n",
              "    </tr>\n",
              "    <tr>\n",
              "      <th>12</th>\n",
              "      <td>4.8</td>\n",
              "      <td>3.0</td>\n",
              "      <td>1.4</td>\n",
              "      <td>0.1</td>\n",
              "      <td>setosa</td>\n",
              "    </tr>\n",
              "    <tr>\n",
              "      <th>13</th>\n",
              "      <td>4.3</td>\n",
              "      <td>3.0</td>\n",
              "      <td>1.1</td>\n",
              "      <td>0.1</td>\n",
              "      <td>setosa</td>\n",
              "    </tr>\n",
              "    <tr>\n",
              "      <th>14</th>\n",
              "      <td>5.8</td>\n",
              "      <td>4.0</td>\n",
              "      <td>1.2</td>\n",
              "      <td>0.2</td>\n",
              "      <td>setosa</td>\n",
              "    </tr>\n",
              "    <tr>\n",
              "      <th>15</th>\n",
              "      <td>5.7</td>\n",
              "      <td>4.4</td>\n",
              "      <td>1.5</td>\n",
              "      <td>0.4</td>\n",
              "      <td>setosa</td>\n",
              "    </tr>\n",
              "    <tr>\n",
              "      <th>16</th>\n",
              "      <td>5.4</td>\n",
              "      <td>3.9</td>\n",
              "      <td>1.3</td>\n",
              "      <td>0.4</td>\n",
              "      <td>setosa</td>\n",
              "    </tr>\n",
              "    <tr>\n",
              "      <th>17</th>\n",
              "      <td>5.1</td>\n",
              "      <td>3.5</td>\n",
              "      <td>1.4</td>\n",
              "      <td>0.3</td>\n",
              "      <td>setosa</td>\n",
              "    </tr>\n",
              "    <tr>\n",
              "      <th>18</th>\n",
              "      <td>5.7</td>\n",
              "      <td>3.8</td>\n",
              "      <td>1.7</td>\n",
              "      <td>0.3</td>\n",
              "      <td>setosa</td>\n",
              "    </tr>\n",
              "    <tr>\n",
              "      <th>19</th>\n",
              "      <td>5.1</td>\n",
              "      <td>3.8</td>\n",
              "      <td>1.5</td>\n",
              "      <td>0.3</td>\n",
              "      <td>setosa</td>\n",
              "    </tr>\n",
              "    <tr>\n",
              "      <th>20</th>\n",
              "      <td>5.4</td>\n",
              "      <td>3.4</td>\n",
              "      <td>1.7</td>\n",
              "      <td>0.2</td>\n",
              "      <td>setosa</td>\n",
              "    </tr>\n",
              "    <tr>\n",
              "      <th>21</th>\n",
              "      <td>5.1</td>\n",
              "      <td>3.7</td>\n",
              "      <td>1.5</td>\n",
              "      <td>0.4</td>\n",
              "      <td>setosa</td>\n",
              "    </tr>\n",
              "    <tr>\n",
              "      <th>22</th>\n",
              "      <td>4.6</td>\n",
              "      <td>3.6</td>\n",
              "      <td>1.0</td>\n",
              "      <td>0.2</td>\n",
              "      <td>setosa</td>\n",
              "    </tr>\n",
              "    <tr>\n",
              "      <th>23</th>\n",
              "      <td>5.1</td>\n",
              "      <td>3.3</td>\n",
              "      <td>1.7</td>\n",
              "      <td>0.5</td>\n",
              "      <td>setosa</td>\n",
              "    </tr>\n",
              "    <tr>\n",
              "      <th>24</th>\n",
              "      <td>4.8</td>\n",
              "      <td>3.4</td>\n",
              "      <td>1.9</td>\n",
              "      <td>0.2</td>\n",
              "      <td>setosa</td>\n",
              "    </tr>\n",
              "    <tr>\n",
              "      <th>25</th>\n",
              "      <td>5.0</td>\n",
              "      <td>3.0</td>\n",
              "      <td>1.6</td>\n",
              "      <td>0.2</td>\n",
              "      <td>setosa</td>\n",
              "    </tr>\n",
              "    <tr>\n",
              "      <th>26</th>\n",
              "      <td>5.0</td>\n",
              "      <td>3.4</td>\n",
              "      <td>1.6</td>\n",
              "      <td>0.4</td>\n",
              "      <td>setosa</td>\n",
              "    </tr>\n",
              "    <tr>\n",
              "      <th>27</th>\n",
              "      <td>5.2</td>\n",
              "      <td>3.5</td>\n",
              "      <td>1.5</td>\n",
              "      <td>0.2</td>\n",
              "      <td>setosa</td>\n",
              "    </tr>\n",
              "    <tr>\n",
              "      <th>28</th>\n",
              "      <td>5.2</td>\n",
              "      <td>3.4</td>\n",
              "      <td>1.4</td>\n",
              "      <td>0.2</td>\n",
              "      <td>setosa</td>\n",
              "    </tr>\n",
              "    <tr>\n",
              "      <th>29</th>\n",
              "      <td>4.7</td>\n",
              "      <td>3.2</td>\n",
              "      <td>1.6</td>\n",
              "      <td>0.2</td>\n",
              "      <td>setosa</td>\n",
              "    </tr>\n",
              "    <tr>\n",
              "      <th>30</th>\n",
              "      <td>4.8</td>\n",
              "      <td>3.1</td>\n",
              "      <td>1.6</td>\n",
              "      <td>0.2</td>\n",
              "      <td>setosa</td>\n",
              "    </tr>\n",
              "    <tr>\n",
              "      <th>31</th>\n",
              "      <td>5.4</td>\n",
              "      <td>3.4</td>\n",
              "      <td>1.5</td>\n",
              "      <td>0.4</td>\n",
              "      <td>setosa</td>\n",
              "    </tr>\n",
              "    <tr>\n",
              "      <th>32</th>\n",
              "      <td>5.2</td>\n",
              "      <td>4.1</td>\n",
              "      <td>1.5</td>\n",
              "      <td>0.1</td>\n",
              "      <td>setosa</td>\n",
              "    </tr>\n",
              "    <tr>\n",
              "      <th>33</th>\n",
              "      <td>5.5</td>\n",
              "      <td>4.2</td>\n",
              "      <td>1.4</td>\n",
              "      <td>0.2</td>\n",
              "      <td>setosa</td>\n",
              "    </tr>\n",
              "    <tr>\n",
              "      <th>34</th>\n",
              "      <td>4.9</td>\n",
              "      <td>3.1</td>\n",
              "      <td>1.5</td>\n",
              "      <td>0.2</td>\n",
              "      <td>setosa</td>\n",
              "    </tr>\n",
              "    <tr>\n",
              "      <th>35</th>\n",
              "      <td>5.0</td>\n",
              "      <td>3.2</td>\n",
              "      <td>1.2</td>\n",
              "      <td>0.2</td>\n",
              "      <td>setosa</td>\n",
              "    </tr>\n",
              "    <tr>\n",
              "      <th>36</th>\n",
              "      <td>5.5</td>\n",
              "      <td>3.5</td>\n",
              "      <td>1.3</td>\n",
              "      <td>0.2</td>\n",
              "      <td>setosa</td>\n",
              "    </tr>\n",
              "    <tr>\n",
              "      <th>37</th>\n",
              "      <td>4.9</td>\n",
              "      <td>3.6</td>\n",
              "      <td>1.4</td>\n",
              "      <td>0.1</td>\n",
              "      <td>setosa</td>\n",
              "    </tr>\n",
              "    <tr>\n",
              "      <th>38</th>\n",
              "      <td>4.4</td>\n",
              "      <td>3.0</td>\n",
              "      <td>1.3</td>\n",
              "      <td>0.2</td>\n",
              "      <td>setosa</td>\n",
              "    </tr>\n",
              "    <tr>\n",
              "      <th>39</th>\n",
              "      <td>5.1</td>\n",
              "      <td>3.4</td>\n",
              "      <td>1.5</td>\n",
              "      <td>0.2</td>\n",
              "      <td>setosa</td>\n",
              "    </tr>\n",
              "    <tr>\n",
              "      <th>40</th>\n",
              "      <td>5.0</td>\n",
              "      <td>3.5</td>\n",
              "      <td>1.3</td>\n",
              "      <td>0.3</td>\n",
              "      <td>setosa</td>\n",
              "    </tr>\n",
              "    <tr>\n",
              "      <th>41</th>\n",
              "      <td>4.5</td>\n",
              "      <td>2.3</td>\n",
              "      <td>1.3</td>\n",
              "      <td>0.3</td>\n",
              "      <td>setosa</td>\n",
              "    </tr>\n",
              "    <tr>\n",
              "      <th>42</th>\n",
              "      <td>4.4</td>\n",
              "      <td>3.2</td>\n",
              "      <td>1.3</td>\n",
              "      <td>0.2</td>\n",
              "      <td>setosa</td>\n",
              "    </tr>\n",
              "    <tr>\n",
              "      <th>43</th>\n",
              "      <td>5.0</td>\n",
              "      <td>3.5</td>\n",
              "      <td>1.6</td>\n",
              "      <td>0.6</td>\n",
              "      <td>setosa</td>\n",
              "    </tr>\n",
              "    <tr>\n",
              "      <th>44</th>\n",
              "      <td>5.1</td>\n",
              "      <td>3.8</td>\n",
              "      <td>1.9</td>\n",
              "      <td>0.4</td>\n",
              "      <td>setosa</td>\n",
              "    </tr>\n",
              "    <tr>\n",
              "      <th>45</th>\n",
              "      <td>4.8</td>\n",
              "      <td>3.0</td>\n",
              "      <td>1.4</td>\n",
              "      <td>0.3</td>\n",
              "      <td>setosa</td>\n",
              "    </tr>\n",
              "    <tr>\n",
              "      <th>46</th>\n",
              "      <td>5.1</td>\n",
              "      <td>3.8</td>\n",
              "      <td>1.6</td>\n",
              "      <td>0.2</td>\n",
              "      <td>setosa</td>\n",
              "    </tr>\n",
              "    <tr>\n",
              "      <th>47</th>\n",
              "      <td>4.6</td>\n",
              "      <td>3.2</td>\n",
              "      <td>1.4</td>\n",
              "      <td>0.2</td>\n",
              "      <td>setosa</td>\n",
              "    </tr>\n",
              "    <tr>\n",
              "      <th>48</th>\n",
              "      <td>5.3</td>\n",
              "      <td>3.7</td>\n",
              "      <td>1.5</td>\n",
              "      <td>0.2</td>\n",
              "      <td>setosa</td>\n",
              "    </tr>\n",
              "    <tr>\n",
              "      <th>49</th>\n",
              "      <td>5.0</td>\n",
              "      <td>3.3</td>\n",
              "      <td>1.4</td>\n",
              "      <td>0.2</td>\n",
              "      <td>setosa</td>\n",
              "    </tr>\n",
              "  </tbody>\n",
              "</table>\n",
              "</div>\n",
              "      <button class=\"colab-df-convert\" onclick=\"convertToInteractive('df-5cf2a7f4-dfde-4285-bafb-039dcea78a42')\"\n",
              "              title=\"Convert this dataframe to an interactive table.\"\n",
              "              style=\"display:none;\">\n",
              "        \n",
              "  <svg xmlns=\"http://www.w3.org/2000/svg\" height=\"24px\"viewBox=\"0 0 24 24\"\n",
              "       width=\"24px\">\n",
              "    <path d=\"M0 0h24v24H0V0z\" fill=\"none\"/>\n",
              "    <path d=\"M18.56 5.44l.94 2.06.94-2.06 2.06-.94-2.06-.94-.94-2.06-.94 2.06-2.06.94zm-11 1L8.5 8.5l.94-2.06 2.06-.94-2.06-.94L8.5 2.5l-.94 2.06-2.06.94zm10 10l.94 2.06.94-2.06 2.06-.94-2.06-.94-.94-2.06-.94 2.06-2.06.94z\"/><path d=\"M17.41 7.96l-1.37-1.37c-.4-.4-.92-.59-1.43-.59-.52 0-1.04.2-1.43.59L10.3 9.45l-7.72 7.72c-.78.78-.78 2.05 0 2.83L4 21.41c.39.39.9.59 1.41.59.51 0 1.02-.2 1.41-.59l7.78-7.78 2.81-2.81c.8-.78.8-2.07 0-2.86zM5.41 20L4 18.59l7.72-7.72 1.47 1.35L5.41 20z\"/>\n",
              "  </svg>\n",
              "      </button>\n",
              "      \n",
              "  <style>\n",
              "    .colab-df-container {\n",
              "      display:flex;\n",
              "      flex-wrap:wrap;\n",
              "      gap: 12px;\n",
              "    }\n",
              "\n",
              "    .colab-df-convert {\n",
              "      background-color: #E8F0FE;\n",
              "      border: none;\n",
              "      border-radius: 50%;\n",
              "      cursor: pointer;\n",
              "      display: none;\n",
              "      fill: #1967D2;\n",
              "      height: 32px;\n",
              "      padding: 0 0 0 0;\n",
              "      width: 32px;\n",
              "    }\n",
              "\n",
              "    .colab-df-convert:hover {\n",
              "      background-color: #E2EBFA;\n",
              "      box-shadow: 0px 1px 2px rgba(60, 64, 67, 0.3), 0px 1px 3px 1px rgba(60, 64, 67, 0.15);\n",
              "      fill: #174EA6;\n",
              "    }\n",
              "\n",
              "    [theme=dark] .colab-df-convert {\n",
              "      background-color: #3B4455;\n",
              "      fill: #D2E3FC;\n",
              "    }\n",
              "\n",
              "    [theme=dark] .colab-df-convert:hover {\n",
              "      background-color: #434B5C;\n",
              "      box-shadow: 0px 1px 3px 1px rgba(0, 0, 0, 0.15);\n",
              "      filter: drop-shadow(0px 1px 2px rgba(0, 0, 0, 0.3));\n",
              "      fill: #FFFFFF;\n",
              "    }\n",
              "  </style>\n",
              "\n",
              "      <script>\n",
              "        const buttonEl =\n",
              "          document.querySelector('#df-5cf2a7f4-dfde-4285-bafb-039dcea78a42 button.colab-df-convert');\n",
              "        buttonEl.style.display =\n",
              "          google.colab.kernel.accessAllowed ? 'block' : 'none';\n",
              "\n",
              "        async function convertToInteractive(key) {\n",
              "          const element = document.querySelector('#df-5cf2a7f4-dfde-4285-bafb-039dcea78a42');\n",
              "          const dataTable =\n",
              "            await google.colab.kernel.invokeFunction('convertToInteractive',\n",
              "                                                     [key], {});\n",
              "          if (!dataTable) return;\n",
              "\n",
              "          const docLinkHtml = 'Like what you see? Visit the ' +\n",
              "            '<a target=\"_blank\" href=https://colab.research.google.com/notebooks/data_table.ipynb>data table notebook</a>'\n",
              "            + ' to learn more about interactive tables.';\n",
              "          element.innerHTML = '';\n",
              "          dataTable['output_type'] = 'display_data';\n",
              "          await google.colab.output.renderOutput(dataTable, element);\n",
              "          const docLink = document.createElement('div');\n",
              "          docLink.innerHTML = docLinkHtml;\n",
              "          element.appendChild(docLink);\n",
              "        }\n",
              "      </script>\n",
              "    </div>\n",
              "  </div>\n",
              "  "
            ],
            "text/plain": [
              "    sepal_length  sepal_width  petal_length  petal_width species\n",
              "0            5.1          3.5           1.4          0.2  setosa\n",
              "1            4.9          3.0           1.4          0.2  setosa\n",
              "2            4.7          3.2           1.3          0.2  setosa\n",
              "3            4.6          3.1           1.5          0.2  setosa\n",
              "4            5.0          3.6           1.4          0.2  setosa\n",
              "5            5.4          3.9           1.7          0.4  setosa\n",
              "6            4.6          3.4           1.4          0.3  setosa\n",
              "7            5.0          3.4           1.5          0.2  setosa\n",
              "8            4.4          2.9           1.4          0.2  setosa\n",
              "9            4.9          3.1           1.5          0.1  setosa\n",
              "10           5.4          3.7           1.5          0.2  setosa\n",
              "11           4.8          3.4           1.6          0.2  setosa\n",
              "12           4.8          3.0           1.4          0.1  setosa\n",
              "13           4.3          3.0           1.1          0.1  setosa\n",
              "14           5.8          4.0           1.2          0.2  setosa\n",
              "15           5.7          4.4           1.5          0.4  setosa\n",
              "16           5.4          3.9           1.3          0.4  setosa\n",
              "17           5.1          3.5           1.4          0.3  setosa\n",
              "18           5.7          3.8           1.7          0.3  setosa\n",
              "19           5.1          3.8           1.5          0.3  setosa\n",
              "20           5.4          3.4           1.7          0.2  setosa\n",
              "21           5.1          3.7           1.5          0.4  setosa\n",
              "22           4.6          3.6           1.0          0.2  setosa\n",
              "23           5.1          3.3           1.7          0.5  setosa\n",
              "24           4.8          3.4           1.9          0.2  setosa\n",
              "25           5.0          3.0           1.6          0.2  setosa\n",
              "26           5.0          3.4           1.6          0.4  setosa\n",
              "27           5.2          3.5           1.5          0.2  setosa\n",
              "28           5.2          3.4           1.4          0.2  setosa\n",
              "29           4.7          3.2           1.6          0.2  setosa\n",
              "30           4.8          3.1           1.6          0.2  setosa\n",
              "31           5.4          3.4           1.5          0.4  setosa\n",
              "32           5.2          4.1           1.5          0.1  setosa\n",
              "33           5.5          4.2           1.4          0.2  setosa\n",
              "34           4.9          3.1           1.5          0.2  setosa\n",
              "35           5.0          3.2           1.2          0.2  setosa\n",
              "36           5.5          3.5           1.3          0.2  setosa\n",
              "37           4.9          3.6           1.4          0.1  setosa\n",
              "38           4.4          3.0           1.3          0.2  setosa\n",
              "39           5.1          3.4           1.5          0.2  setosa\n",
              "40           5.0          3.5           1.3          0.3  setosa\n",
              "41           4.5          2.3           1.3          0.3  setosa\n",
              "42           4.4          3.2           1.3          0.2  setosa\n",
              "43           5.0          3.5           1.6          0.6  setosa\n",
              "44           5.1          3.8           1.9          0.4  setosa\n",
              "45           4.8          3.0           1.4          0.3  setosa\n",
              "46           5.1          3.8           1.6          0.2  setosa\n",
              "47           4.6          3.2           1.4          0.2  setosa\n",
              "48           5.3          3.7           1.5          0.2  setosa\n",
              "49           5.0          3.3           1.4          0.2  setosa"
            ]
          },
          "metadata": {},
          "execution_count": 25
        }
      ]
    },
    {
      "cell_type": "markdown",
      "metadata": {
        "id": "ivBWrSMQO6f1"
      },
      "source": [
        "**Question 2 (10 points)**: Your assignment is to write a function which takes a flower class (one of either \"setosa\", \"versicolor\" or \"virginica\" and a number $n$, and return the mean sepal length of the top n flowers of that class, sorted by sepal width (so the mean sepal length of the n flowers with the highest sepal width out of all flowers in the class.)"
      ]
    },
    {
      "cell_type": "code",
      "metadata": {
        "id": "yl9bbuNTPcBl"
      },
      "source": [
        "def get_mean_sepal_length_from_class_top_n_width(iris, flower_class:str, n:int):\n",
        "    '''\n",
        "    inputs: the iris dataset, a flower_class string and a positive integer\n",
        "    output: a floating point number\n",
        "    using the iris dataset provided above as a pandas DataFrame, \n",
        "    a) obtain only those datapoints which correspond to the given class\n",
        "    b) find the top n of that subset according to sepal width\n",
        "    c) return the mean sepal length of that smaller subset\n",
        "    '''\n",
        "    # STUDENT TODO START:\n",
        "    sorted = iris.iloc[np.where(iris[\"species\"] == flower_class)[0]].sort_values('sepal_width', ascending=False)\n",
        "    return sorted.iloc[range(n)]['sepal_length'].mean()\n",
        "    # STUDENT TODO END"
      ],
      "execution_count": null,
      "outputs": []
    },
    {
      "cell_type": "code",
      "metadata": {
        "id": "6CXO4RGi4GlE"
      },
      "source": [
        "def test_get_mean():\n",
        "    \"\"\"We will have hidden values for species and n in the real gradescope\"\"\"\n",
        "    n = 5\n",
        "    species = \"setosa\"\n",
        "    species_top_n = [5.7, 5.5, 5.2, 5.8, 5.4]\n",
        "    species_mean = round(get_mean_sepal_length_from_class_top_n_width(iris, species, n), 2)\n",
        "    assert (species_mean == 5.52)\n",
        "    \n",
        "# run test case\n",
        "if NOTEBOOK:\n",
        "  test_get_mean()"
      ],
      "execution_count": null,
      "outputs": []
    },
    {
      "cell_type": "code",
      "metadata": {
        "id": "yjdZ47IMhkLc",
        "colab": {
          "base_uri": "https://localhost:8080/"
        },
        "outputId": "4c923466-eb42-4f28-cb3a-11aa26dbabfe"
      },
      "source": [
        "# PennGrader Grading Cell\n",
        "grader.grade(test_case_id = 'test_get_mean', answer = get_mean_sepal_length_from_class_top_n_width)"
      ],
      "execution_count": null,
      "outputs": [
        {
          "output_type": "stream",
          "name": "stdout",
          "text": [
            "Correct! You earned 10/10 points. You are a star!\n",
            "\n",
            "Your submission has been successfully recorded in the gradebook.\n"
          ]
        }
      ]
    },
    {
      "cell_type": "markdown",
      "metadata": {
        "id": "OI9SfQ3fRqJ8"
      },
      "source": [
        "**Question 3 (10 points):** Your next task is to take a subset of the iris dataset and return a copy of a modified dataset that has an integer-valued instead of a string-valued \"species\" column, where 0 corresponds to \"setosa\", 1 corresponds to \"versicolor\", and 2 corresponds to \"virginica\".  As we will learn, using \"integer-based categorical representations\" is quite useful in many classification tasks and other types of tasks involving variables associated with different categories."
      ]
    },
    {
      "cell_type": "code",
      "metadata": {
        "id": "AbKmUdYsSRQj"
      },
      "source": [
        "def string_to_categorical_int(iris, n : int):\n",
        "    '''\n",
        "    input: the iris dataset, a positive integer n\n",
        "    output: a new dataframe df2 which contains the same data as df except\n",
        "    a) only the first n examples of each species are retained\n",
        "    b) the species labels are converted from strings to integers between 0 and 2 according to the above scheme\n",
        "    '''\n",
        "    # STUDENT TODO START:\n",
        "    sorted = iris.groupby('species').head(n).reset_index(drop=True)\n",
        "    species = ['setosa','versicolor','virginica']\n",
        "    for idx, spe in enumerate(species):\n",
        "      sorted = sorted.replace(spe, idx)\n",
        "    \n",
        "    return sorted\n",
        "    # STUDENT TODO END"
      ],
      "execution_count": null,
      "outputs": []
    },
    {
      "cell_type": "code",
      "metadata": {
        "id": "B4pySlZ14OVn"
      },
      "source": [
        "def test_string_to_cat1():\n",
        "        \"\"\"We will have hidden values for species, n and column in the real gradescope\"\"\"\n",
        "        n = 5\n",
        "        df2 = string_to_categorical_int(iris, n)\n",
        "        species = \"setosa\"\n",
        "        species_cat = {\"setosa\":0, \"versicolor\":1, \"virginica\":2}[species]\n",
        "        column = \"species\"\n",
        "        assert (df2[column].tolist() == [0, 0, 0, 0, 0, 1, 1, 1, 1, 1, 2, 2, 2, 2, 2])\n",
        "        \n",
        "def test_string_to_cat2():\n",
        "        n = 5\n",
        "        \"\"\"We will have hidden values for species, n and column in the real gradescope\"\"\"\n",
        "        df2 = string_to_categorical_int(iris, n)\n",
        "        species = \"setosa\"\n",
        "        species_cat = {\"setosa\":0, \"versicolor\":1, \"virginica\":2}[species]\n",
        "        column = \"sepal_length\"\n",
        "        column_vals_df2 = [5.1, 4.9, 4.7, 4.6, 5.0, 7.0, 6.4, 6.9, 5.5, 6.5, 6.3, 5.8, 7.1, 6.3, 6.5]\n",
        "        assert (df2[column].tolist() == column_vals_df2)\n",
        "        \n",
        "def test_string_to_cat3():\n",
        "        \"\"\"We will have hidden values for n in the real gradescope\"\"\"\n",
        "        n = 5\n",
        "        df2 = string_to_categorical_int(iris, n)\n",
        "        assert (np.all(df2.columns == iris.columns))\n",
        "        \n",
        "# run test cases\n",
        "if NOTEBOOK:\n",
        "  test_string_to_cat1()\n",
        "  test_string_to_cat2()\n",
        "  test_string_to_cat3()"
      ],
      "execution_count": null,
      "outputs": []
    },
    {
      "cell_type": "code",
      "metadata": {
        "id": "xLECyZtQhkLd",
        "colab": {
          "base_uri": "https://localhost:8080/"
        },
        "outputId": "4ee7535d-cf0e-4a42-ecff-b756ad3a043a"
      },
      "source": [
        "# PennGrader Grading Cell\n",
        "grader.grade(test_case_id = 'test_string_to_cat1', answer = string_to_categorical_int)"
      ],
      "execution_count": null,
      "outputs": [
        {
          "output_type": "stream",
          "name": "stdout",
          "text": [
            "Correct! You earned 2/2 points. You are a star!\n",
            "\n",
            "Your submission has been successfully recorded in the gradebook.\n"
          ]
        }
      ]
    },
    {
      "cell_type": "code",
      "metadata": {
        "id": "ImZT9b1WhkLe",
        "colab": {
          "base_uri": "https://localhost:8080/"
        },
        "outputId": "54e62abe-feab-4039-cd3b-3d78ca9560ef"
      },
      "source": [
        "grader.grade(test_case_id = 'test_string_to_cat2', answer = string_to_categorical_int)"
      ],
      "execution_count": null,
      "outputs": [
        {
          "output_type": "stream",
          "name": "stdout",
          "text": [
            "Correct! You earned 3/3 points. You are a star!\n",
            "\n",
            "Your submission has been successfully recorded in the gradebook.\n"
          ]
        }
      ]
    },
    {
      "cell_type": "code",
      "metadata": {
        "id": "zt7VKLIDhkLe",
        "colab": {
          "base_uri": "https://localhost:8080/"
        },
        "outputId": "d6a0db76-8b86-4859-93c5-938d50ca162d"
      },
      "source": [
        "grader.grade(test_case_id = 'test_string_to_cat3', answer = string_to_categorical_int)"
      ],
      "execution_count": null,
      "outputs": [
        {
          "output_type": "stream",
          "name": "stdout",
          "text": [
            "Correct! You earned 5/5 points. You are a star!\n",
            "\n",
            "Your submission has been successfully recorded in the gradebook.\n"
          ]
        }
      ]
    },
    {
      "cell_type": "markdown",
      "metadata": {
        "id": "PaTDiSK8oFXm"
      },
      "source": [
        "## Matplotlib\n",
        "\n",
        "**Question 4 (15 points):** \n",
        "This exercise is designed to familiarize you with plotting data in [matplotlib](https://matplotlib.org/), a Python graphing library used extensively in academia and industry, which is pre-installed on Google Colab. You will generate a scatter plot of Mars' Declimation vs Time using Tycho Brahe's observational data recorded from 1582 to 1600 (an example of the plot is shown below), using Matplotlib. We have provided starter code that will download the data and process it into Pandas dataframe.\n",
        "\n",
        "The data should be plotted as a scatter plot with angle of declination on the Y axis and days since the initial observation on the X axis, using a `+` shaped marker, each data point with a transparency of 0.25 (look at the `alpha` property of the scatter plot function),  with the data for each Volume of Tycho Brahe's notes plotted in a different color and labeled properly in the graph legend in the lower right (look at filtering on categorical variables in Pandas and look at the `label` property of the scatter plot function to set a legend label). The graph should be titled and each axis labeled as shown, and grid lines should be plotted with a transparency of 0.25 (look at the `alpha` property of the grid function), and it should be 12 inches wide and 5 inches tall (look at the `set_size_inches` function). Embed a picture of your figure (a `.png` can be downloaded from Colab) at the end of your solution to the written problem set; it should be identical to the figure below, sans the \"Homework Example\" watermark.\n",
        "\n",
        "\n",
        "\n",
        "---\n",
        "\n",
        "![mars_graph.png](data:image/png;base64,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)\n"
      ]
    },
    {
      "cell_type": "code",
      "metadata": {
        "id": "_NR4whx1wSQh",
        "colab": {
          "base_uri": "https://localhost:8080/",
          "height": 397
        },
        "outputId": "ccb2a9aa-63b3-459f-f9b1-470a582a462b"
      },
      "source": [
        "# load data\n",
        "!wget http://www.pafko.com/tycho/mars.xls\n",
        "df = pd.read_excel(\"mars.xls\", usecols=\"F,O,U\", skiprows=5)\n",
        "df['Time Deltas'] = df['Days since 1 AD'] - df['Days since 1 AD'].min()\n",
        "df.head()"
      ],
      "execution_count": null,
      "outputs": [
        {
          "output_type": "stream",
          "name": "stdout",
          "text": [
            "--2022-01-15 03:38:36--  http://www.pafko.com/tycho/mars.xls\n",
            "Resolving www.pafko.com (www.pafko.com)... 216.71.120.41\n",
            "Connecting to www.pafko.com (www.pafko.com)|216.71.120.41|:80... connected.\n",
            "HTTP request sent, awaiting response... 200 OK\n",
            "Length: 365056 (356K) [application/vnd.ms-excel]\n",
            "Saving to: ‘mars.xls.1’\n",
            "\n",
            "mars.xls.1          100%[===================>] 356.50K   669KB/s    in 0.5s    \n",
            "\n",
            "2022-01-15 03:38:37 (669 KB/s) - ‘mars.xls.1’ saved [365056/365056]\n",
            "\n"
          ]
        },
        {
          "output_type": "execute_result",
          "data": {
            "text/html": [
              "\n",
              "  <div id=\"df-b8a6d906-0cce-488e-b704-d067d36195b8\">\n",
              "    <div class=\"colab-df-container\">\n",
              "      <div>\n",
              "<style scoped>\n",
              "    .dataframe tbody tr th:only-of-type {\n",
              "        vertical-align: middle;\n",
              "    }\n",
              "\n",
              "    .dataframe tbody tr th {\n",
              "        vertical-align: top;\n",
              "    }\n",
              "\n",
              "    .dataframe thead th {\n",
              "        text-align: right;\n",
              "    }\n",
              "</style>\n",
              "<table border=\"1\" class=\"dataframe\">\n",
              "  <thead>\n",
              "    <tr style=\"text-align: right;\">\n",
              "      <th></th>\n",
              "      <th>Volume</th>\n",
              "      <th>Days since 1 AD</th>\n",
              "      <th>Declination</th>\n",
              "      <th>Time Deltas</th>\n",
              "    </tr>\n",
              "  </thead>\n",
              "  <tbody>\n",
              "    <tr>\n",
              "      <th>0</th>\n",
              "      <td>10</td>\n",
              "      <td>578150.500000</td>\n",
              "      <td>23.116667</td>\n",
              "      <td>0.000000</td>\n",
              "    </tr>\n",
              "    <tr>\n",
              "      <th>1</th>\n",
              "      <td>10</td>\n",
              "      <td>578198.500000</td>\n",
              "      <td>26.933333</td>\n",
              "      <td>48.000000</td>\n",
              "    </tr>\n",
              "    <tr>\n",
              "      <th>2</th>\n",
              "      <td>10</td>\n",
              "      <td>578195.500000</td>\n",
              "      <td>26.372222</td>\n",
              "      <td>45.000000</td>\n",
              "    </tr>\n",
              "    <tr>\n",
              "      <th>3</th>\n",
              "      <td>10</td>\n",
              "      <td>578217.500000</td>\n",
              "      <td>27.300000</td>\n",
              "      <td>67.000000</td>\n",
              "    </tr>\n",
              "    <tr>\n",
              "      <th>4</th>\n",
              "      <td>10</td>\n",
              "      <td>578883.059722</td>\n",
              "      <td>15.900000</td>\n",
              "      <td>732.559722</td>\n",
              "    </tr>\n",
              "  </tbody>\n",
              "</table>\n",
              "</div>\n",
              "      <button class=\"colab-df-convert\" onclick=\"convertToInteractive('df-b8a6d906-0cce-488e-b704-d067d36195b8')\"\n",
              "              title=\"Convert this dataframe to an interactive table.\"\n",
              "              style=\"display:none;\">\n",
              "        \n",
              "  <svg xmlns=\"http://www.w3.org/2000/svg\" height=\"24px\"viewBox=\"0 0 24 24\"\n",
              "       width=\"24px\">\n",
              "    <path d=\"M0 0h24v24H0V0z\" fill=\"none\"/>\n",
              "    <path d=\"M18.56 5.44l.94 2.06.94-2.06 2.06-.94-2.06-.94-.94-2.06-.94 2.06-2.06.94zm-11 1L8.5 8.5l.94-2.06 2.06-.94-2.06-.94L8.5 2.5l-.94 2.06-2.06.94zm10 10l.94 2.06.94-2.06 2.06-.94-2.06-.94-.94-2.06-.94 2.06-2.06.94z\"/><path d=\"M17.41 7.96l-1.37-1.37c-.4-.4-.92-.59-1.43-.59-.52 0-1.04.2-1.43.59L10.3 9.45l-7.72 7.72c-.78.78-.78 2.05 0 2.83L4 21.41c.39.39.9.59 1.41.59.51 0 1.02-.2 1.41-.59l7.78-7.78 2.81-2.81c.8-.78.8-2.07 0-2.86zM5.41 20L4 18.59l7.72-7.72 1.47 1.35L5.41 20z\"/>\n",
              "  </svg>\n",
              "      </button>\n",
              "      \n",
              "  <style>\n",
              "    .colab-df-container {\n",
              "      display:flex;\n",
              "      flex-wrap:wrap;\n",
              "      gap: 12px;\n",
              "    }\n",
              "\n",
              "    .colab-df-convert {\n",
              "      background-color: #E8F0FE;\n",
              "      border: none;\n",
              "      border-radius: 50%;\n",
              "      cursor: pointer;\n",
              "      display: none;\n",
              "      fill: #1967D2;\n",
              "      height: 32px;\n",
              "      padding: 0 0 0 0;\n",
              "      width: 32px;\n",
              "    }\n",
              "\n",
              "    .colab-df-convert:hover {\n",
              "      background-color: #E2EBFA;\n",
              "      box-shadow: 0px 1px 2px rgba(60, 64, 67, 0.3), 0px 1px 3px 1px rgba(60, 64, 67, 0.15);\n",
              "      fill: #174EA6;\n",
              "    }\n",
              "\n",
              "    [theme=dark] .colab-df-convert {\n",
              "      background-color: #3B4455;\n",
              "      fill: #D2E3FC;\n",
              "    }\n",
              "\n",
              "    [theme=dark] .colab-df-convert:hover {\n",
              "      background-color: #434B5C;\n",
              "      box-shadow: 0px 1px 3px 1px rgba(0, 0, 0, 0.15);\n",
              "      filter: drop-shadow(0px 1px 2px rgba(0, 0, 0, 0.3));\n",
              "      fill: #FFFFFF;\n",
              "    }\n",
              "  </style>\n",
              "\n",
              "      <script>\n",
              "        const buttonEl =\n",
              "          document.querySelector('#df-b8a6d906-0cce-488e-b704-d067d36195b8 button.colab-df-convert');\n",
              "        buttonEl.style.display =\n",
              "          google.colab.kernel.accessAllowed ? 'block' : 'none';\n",
              "\n",
              "        async function convertToInteractive(key) {\n",
              "          const element = document.querySelector('#df-b8a6d906-0cce-488e-b704-d067d36195b8');\n",
              "          const dataTable =\n",
              "            await google.colab.kernel.invokeFunction('convertToInteractive',\n",
              "                                                     [key], {});\n",
              "          if (!dataTable) return;\n",
              "\n",
              "          const docLinkHtml = 'Like what you see? Visit the ' +\n",
              "            '<a target=\"_blank\" href=https://colab.research.google.com/notebooks/data_table.ipynb>data table notebook</a>'\n",
              "            + ' to learn more about interactive tables.';\n",
              "          element.innerHTML = '';\n",
              "          dataTable['output_type'] = 'display_data';\n",
              "          await google.colab.output.renderOutput(dataTable, element);\n",
              "          const docLink = document.createElement('div');\n",
              "          docLink.innerHTML = docLinkHtml;\n",
              "          element.appendChild(docLink);\n",
              "        }\n",
              "      </script>\n",
              "    </div>\n",
              "  </div>\n",
              "  "
            ],
            "text/plain": [
              "   Volume  Days since 1 AD  Declination  Time Deltas\n",
              "0      10    578150.500000    23.116667     0.000000\n",
              "1      10    578198.500000    26.933333    48.000000\n",
              "2      10    578195.500000    26.372222    45.000000\n",
              "3      10    578217.500000    27.300000    67.000000\n",
              "4      10    578883.059722    15.900000   732.559722"
            ]
          },
          "metadata": {},
          "execution_count": 26
        }
      ]
    },
    {
      "cell_type": "code",
      "metadata": {
        "id": "F264T71IhkLg",
        "colab": {
          "base_uri": "https://localhost:8080/",
          "height": 269
        },
        "outputId": "bffb377d-7947-4daf-b1e0-537589733335"
      },
      "source": [
        "# STUDENT TODO START:\n",
        "plt.figure()\n",
        "plt.scatter(df.loc[df['Volume']==10, 'Days since 1 AD'], df.loc[df['Volume']==10, 'Declination'], marker='+', alpha=0.25, label='Mars positions(Volume 10)')\n",
        "plt.scatter(df.loc[df['Volume']==11, 'Days since 1 AD'], df.loc[df['Volume']==11, 'Declination'], marker='+', alpha=0.25, label='Mars positions(Volume 11)')\n",
        "plt.scatter(df.loc[df['Volume']==12, 'Days since 1 AD'], df.loc[df['Volume']==12, 'Declination'], marker='+', alpha=0.25, label='Mars positions(Volume 12)')\n",
        "plt.scatter(df.loc[df['Volume']==13, 'Days since 1 AD'], df.loc[df['Volume']==13, 'Declination'], marker='+', alpha=0.25, label='Mars positions(Volume 13)')\n",
        "plt.legend(loc='lower right')\n",
        "plt.show()\n",
        "# STUDENT TODO END"
      ],
      "execution_count": null,
      "outputs": [
        {
          "output_type": "display_data",
          "data": {
            "image/png": "[encoded data removed]",
            "text/plain": [
              "<Figure size 432x288 with 1 Axes>"
            ]
          },
          "metadata": {
            "needs_background": "light"
          }
        }
      ]
    },
    {
      "cell_type": "markdown",
      "metadata": {
        "id": "x8wDM7Y9hkLg"
      },
      "source": [
        "## Submit to Gradescope\n",
        "Congratulation on completing HW0 coding assignment! The last step you need to do is to download this iPython notebook, rename it as **hw0.ipynb** and submit it to [Gradescope](https://www.gradescope.com). Note: Gradescope will automatically re-run your submitted notebook.\n",
        "\n",
        "*In order to download the notebook from Google Colab, click File->Download->Download .ipynb*\n"
      ]
    },
    {
      "cell_type": "code",
      "metadata": {
        "id": "3I_5XYhwqei7"
      },
      "source": [
        ""
      ],
      "execution_count": null,
      "outputs": []
    }
  ]
}